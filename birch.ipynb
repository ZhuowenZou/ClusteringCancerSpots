{
 "cells": [
  {
   "cell_type": "code",
   "execution_count": 6,
   "metadata": {},
   "outputs": [
    {
     "name": "stdout",
     "output_type": "stream",
     "text": [
      "The autoreload extension is already loaded. To reload it, use:\n",
      "  %reload_ext autoreload\n"
     ]
    }
   ],
   "source": [
    "%load_ext autoreload\n",
    "%autoreload 2\n",
    "%reload_ext autoreload"
   ]
  },
  {
   "cell_type": "code",
   "execution_count": 7,
   "metadata": {},
   "outputs": [],
   "source": [
    "\n",
    "from util import *\n",
    "import numpy as np\n",
    "import sys\n",
    "import sklearn.cluster as clst\n",
    "import sklearn.mixture as mix\n",
    "import matplotlib.pyplot as plt\n",
    "from matplotlib.pyplot import figure\n",
    "import pickle\n",
    "import random as rd"
   ]
  },
  {
   "cell_type": "code",
   "execution_count": 8,
   "metadata": {},
   "outputs": [],
   "source": [
    "def birch_clustering(nodes, eps, n_clst = None):\n",
    "    # Fitting \n",
    "    batch_len = 1000\n",
    "    Birch_clst = clst.Birch(eps, n_clusters = None)\n",
    "    Birch_labels = []\n",
    "    for i in range(len(nodes)//batch_len):\n",
    "        Birch_clst.partial_fit(nodes[i*batch_len:(i+1)*batch_len])\n",
    "    Birch_clst.partial_fit(nodes[(len(nodes)//batch_len)*batch_len:])\n",
    "    \n",
    "    Birch_clst.set_params(n_clusters = n_clst)\n",
    "    print(\"Begin global fit\")\n",
    "    Birch_clst.partial_fit()\n",
    "    \n",
    "    print(\"Begin global labeling\")\n",
    "    Birch_labels = Birch_clst.predict(nodes)\n",
    "    print(\"max_label: \", max(Birch_labels))\n",
    "    \n",
    "    # Data collecting\n",
    "    Birch_stats, Birch_out = clst_stats(Birch_labels)\n",
    "\n",
    "    #out_liers\n",
    "    if n_clst is None:\n",
    "        Birch_out = Birch_stats[1]\n",
    "        Birch_stats[1] = 0\n",
    "    else:\n",
    "        Birch_stats[1] = 0\n",
    "        Birch_out = n_clst - sum(Birch_stats)\n",
    "    Birch_error = SSE(nodes, Birch_labels, Birch_clst.subcluster_centers_)\n",
    "\n",
    "    summa = sum([i*Birch_stats[i] for i in range(len(Birch_stats))])\n",
    "    print(\"Number of nodes getting clustered: \", summa)\n",
    "    print(\"Number of clusters: \", sum(Birch_stats))\n",
    "    print(\"Number of outliers: \", Birch_out)\n",
    "    print(\"MSE: \", Birch_error/summa)\n",
    "    \n",
    "    return Birch_labels, Birch_stats, Birch_out, Birch_error/summa"
   ]
  },
  {
   "cell_type": "code",
   "execution_count": 11,
   "metadata": {},
   "outputs": [],
   "source": [
    "#TOFDO FOR RESUME:\n",
    "# 1. change Config[\"filenames\"] to only desired targets\n",
    "# 2. update n_clsts in nxt block \n",
    "# 3. switch to \"if i == -1:\"\n",
    "\n",
    "Config = {}\n",
    "Config[\"directory\"] = \"./data/\"\n",
    "Config[\"folders\"] = [\"9-1\"]\n",
    "Config[\"filenames\"] = [\"real-data\", \"data-max\", \"data-middle\" ,\"data-min\",\"data-uniform\"]\n",
    "epsilons = [0.04, 0.05, 0.06, 0.07, 0.08]\n",
    "figsizes = [50, 200]\n",
    "np.set_printoptions(suppress=True)\n",
    "#np.set_printoptions(threshold=sys.maxsize)\n",
    "np.set_printoptions(threshold=100)"
   ]
  },
  {
   "cell_type": "code",
   "execution_count": 1,
   "metadata": {
    "scrolled": false
   },
   "outputs": [
    {
     "ename": "NameError",
     "evalue": "name 'Config' is not defined",
     "output_type": "error",
     "traceback": [
      "\u001b[1;31m---------------------------------------------------------------------------\u001b[0m",
      "\u001b[1;31mNameError\u001b[0m                                 Traceback (most recent call last)",
      "\u001b[1;32m<ipython-input-1-645e2c9d459e>\u001b[0m in \u001b[0;36m<module>\u001b[1;34m\u001b[0m\n\u001b[1;32m----> 1\u001b[1;33m \u001b[1;32mfor\u001b[0m \u001b[0mk\u001b[0m \u001b[1;32min\u001b[0m \u001b[0mrange\u001b[0m\u001b[1;33m(\u001b[0m\u001b[0mlen\u001b[0m\u001b[1;33m(\u001b[0m\u001b[0mConfig\u001b[0m\u001b[1;33m[\u001b[0m\u001b[1;34m\"folders\"\u001b[0m\u001b[1;33m]\u001b[0m\u001b[1;33m)\u001b[0m\u001b[1;33m)\u001b[0m\u001b[1;33m:\u001b[0m\u001b[1;33m\u001b[0m\u001b[1;33m\u001b[0m\u001b[0m\n\u001b[0m\u001b[0;32m      2\u001b[0m \u001b[1;33m\u001b[0m\u001b[0m\n\u001b[0;32m      3\u001b[0m     \u001b[0mfolder\u001b[0m \u001b[1;33m=\u001b[0m \u001b[0mConfig\u001b[0m\u001b[1;33m[\u001b[0m\u001b[1;34m\"folders\"\u001b[0m\u001b[1;33m]\u001b[0m\u001b[1;33m[\u001b[0m\u001b[0mk\u001b[0m\u001b[1;33m]\u001b[0m\u001b[1;33m\u001b[0m\u001b[1;33m\u001b[0m\u001b[0m\n\u001b[0;32m      4\u001b[0m     \u001b[0mn_clsts\u001b[0m \u001b[1;33m=\u001b[0m \u001b[1;33m[\u001b[0m\u001b[1;33m]\u001b[0m\u001b[1;33m\u001b[0m\u001b[1;33m\u001b[0m\u001b[0m\n\u001b[0;32m      5\u001b[0m \u001b[1;33m\u001b[0m\u001b[0m\n",
      "\u001b[1;31mNameError\u001b[0m: name 'Config' is not defined"
     ]
    }
   ],
   "source": [
    "for k in range(len(Config[\"folders\"])):\n",
    "    \n",
    "    folder = Config[\"folders\"][k]\n",
    "    n_clsts = []\n",
    "    \n",
    "    #n_clsts = [8154, 5265, 4158, 2992, 2388]\n",
    "    #n_clsts = [9790, 6791, 5057, 4000, 3046]\n",
    "    #n_clsts = [10038, 7117, 5170, 4325, 3650]\n",
    "    #n_clsts = [10059, 7139, 5125, 3964, 3037]\n",
    "    #n_clsts = [6596, 4758, 3525, 2751, 2238]\n",
    "    #n_clsts = [9189, 6003, 4481, 3336, 2659]\n",
    "    statsss = []\n",
    "    results = []\n",
    "\n",
    "    for i in range(len(Config[\"filenames\"])):\n",
    "\n",
    "        filename = Config[\"filenames\"][i]\n",
    "\n",
    "        #retrieve data from file\n",
    "        print(\"Reading data from and generating Birch results for %s:\"%filename)\n",
    "        x,y = read_data(Config[\"directory\"] + folder + \"/\"+ filename + \".xlsx\")\n",
    "\n",
    "        # transform data\n",
    "        nodes = np.asarray([x,y]).T\n",
    "        print(nodes[0:3])\n",
    "        np.random.shuffle(nodes)\n",
    "\n",
    "        print(\"Number of nodes: \", len(nodes))\n",
    "\n",
    "        # Do birchs\n",
    "        result = []\n",
    "        statss = []\n",
    "        n_clst = 0\n",
    "\n",
    "        for j in range(len(epsilons)):\n",
    "\n",
    "            # Do birch \n",
    "            epsilon = epsilons[j]\n",
    "            print(\"Epsilon = \", epsilon, \" ###################################\")\n",
    "            \n",
    "            #if i == -1: turn on if resumed from checkpoint\n",
    "            if i == 0:\n",
    "                labels, stats, out, MSE = birch_clustering(nodes, epsilon)\n",
    "                n_clst = int(out + sum(stats))\n",
    "                n_clsts.append(n_clst)\n",
    "                print(\"Birch estimated cluster number: \", n_clst)\n",
    "            else: \n",
    "                n_clst = n_clsts[j]\n",
    "                labels, stats, out, MSE = birch_clustering(nodes, epsilon, n_clst)\n",
    "            result.append((labels, stats, out, MSE))\n",
    "            stats[1] = out\n",
    "            statss.append(stats)\n",
    "            stats[1] = 0\n",
    "\n",
    "            plotter(stats, epsilon, \"birch\", folder + \"_\" + filename, 0, 100, n_clst)\n",
    "            weighted_plotter(stats, epsilon, \"birch\", folder + \"_\" + filename, 0, 100, n_clst)\n",
    "            for figsize in figsizes:\n",
    "                plot_graph(nodes[:,0], nodes[:,1], epsilon, n_clst, labels, \"Birch\", folder+\"_\"+filename, figsize)\n",
    "\n",
    "        # checkpoint  \n",
    "        results.append(result)\n",
    "        statsss.append(statss)\n",
    "\n",
    "        BIRCH = (n_clst, result, Config[\"filenames\"], epsilons, statss)\n",
    "        file = open(\"./BIRCH-%s-%s.tar\"%(folder,filename),\"wb\")\n",
    "        pickle.dump(BIRCH, file)\n",
    "        file.close()\n"
   ]
  },
  {
   "cell_type": "code",
   "execution_count": null,
   "metadata": {},
   "outputs": [],
   "source": []
  },
  {
   "cell_type": "code",
   "execution_count": null,
   "metadata": {},
   "outputs": [],
   "source": []
  }
 ],
 "metadata": {
  "colab": {
   "name": "cnn.ipynb",
   "provenance": []
  },
  "kernelspec": {
   "display_name": "Python 3",
   "language": "python",
   "name": "python3"
  },
  "language_info": {
   "codemirror_mode": {
    "name": "ipython",
    "version": 3
   },
   "file_extension": ".py",
   "mimetype": "text/x-python",
   "name": "python",
   "nbconvert_exporter": "python",
   "pygments_lexer": "ipython3",
   "version": "3.7.4"
  }
 },
 "nbformat": 4,
 "nbformat_minor": 1
}
