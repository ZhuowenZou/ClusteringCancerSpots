{
 "cells": [
  {
   "cell_type": "code",
   "execution_count": 65,
   "metadata": {},
   "outputs": [
    {
     "name": "stdout",
     "output_type": "stream",
     "text": [
      "The autoreload extension is already loaded. To reload it, use:\n",
      "  %reload_ext autoreload\n"
     ]
    }
   ],
   "source": [
    "%load_ext autoreload\n",
    "%autoreload 2\n",
    "%reload_ext autoreload"
   ]
  },
  {
   "cell_type": "code",
   "execution_count": 66,
   "metadata": {},
   "outputs": [],
   "source": [
    "\n",
    "from util import *\n",
    "import numpy as np\n",
    "import sys\n",
    "import sklearn.cluster as clst\n",
    "import sklearn.mixture as mix\n",
    "import matplotlib.pyplot as plt\n",
    "from matplotlib.pyplot import figure\n",
    "import pickle\n",
    "import random as rd"
   ]
  },
  {
   "cell_type": "code",
   "execution_count": 67,
   "metadata": {},
   "outputs": [],
   "source": [
    "Config = {}\n",
    "Config[\"directory\"] = \"./data/\"\n",
    "Config[\"folders\"] = [\"9-2\"]\n",
    "Config[\"filenames\"] = [\"real-data\", \"data-max\", \"data-middle\", \"data-min\", \"data-uniform\"]\n",
    "epsilons = [0.04, 0.05, 0.06, 0.07, 0.08]\n",
    "figsizes = [50, 200]\n",
    "np.set_printoptions(suppress=True)\n",
    "#np.set_printoptions(threshold=sys.maxsize)\n",
    "np.set_printoptions(threshold=100)"
   ]
  },
  {
   "cell_type": "code",
   "execution_count": 74,
   "metadata": {},
   "outputs": [],
   "source": [
    "tarlist = [\"BIRCH-9-2-real-data.tar\", \"BIRCH-9-2-data-max.tar\", \"BIRCH-9-2-data-middle.tar\", \"BIRCH-9-2-data-min.tar\", \\\n",
    "         \"BIRCH-9-2-data-uniform.tar\"]\n",
    "#n_clsts = [8154, 5265, 4158, 2992, 2388]\n",
    "#n_clsts = [9790, 6791, 5057, 4000, 3046]\n",
    "#n_clsts = [10038, 7117, 5170, 4325, 3650]\n",
    "#n_clsts = [10059, 7139, 5125, 3964, 3037]\n",
    "#n_clsts = [6596, 4758, 3525, 2751, 2238]\n",
    "n_clsts = [9189, 6003, 4481, 3336, 2659]\n",
    "\n",
    "results = []\n",
    "statsss = []\n",
    "for filename in tarlist:\n",
    "        file = open(\"./\"+filename,\"rb\")\n",
    "        n_clst, result, _, epsilons, statss = pickle.load(file)\n",
    "        file.close()\n",
    "        results.append(result)\n",
    "        statsss.append(statss)\n",
    "        "
   ]
  },
  {
   "cell_type": "code",
   "execution_count": 75,
   "metadata": {},
   "outputs": [
    {
     "name": "stdout",
     "output_type": "stream",
     "text": [
      "8882 \t 307 \t 0.0006850\n",
      "6358 \t 2831 \t 0.0007885\n",
      "4307 \t 4882 \t 0.0007704\n",
      "3121 \t 6068 \t 0.0007594\n",
      "9187 \t 2 \t 0.0009414\n",
      "5866 \t 137 \t 0.0011045\n",
      "4745 \t 1258 \t 0.0011996\n",
      "3001 \t 3002 \t 0.0012588\n",
      "2215 \t 3788 \t 0.0012205\n",
      "6003 \t 0 \t 0.0015273\n",
      "4388 \t 93 \t 0.0015552\n",
      "3623 \t 858 \t 0.0017443\n",
      "2335 \t 2146 \t 0.0017703\n",
      "1664 \t 2817 \t 0.0017266\n",
      "4481 \t 0 \t 0.0021323\n",
      "3265 \t 71 \t 0.0021802\n",
      "2709 \t 627 \t 0.0024825\n",
      "1835 \t 1501 \t 0.0024199\n",
      "1356 \t 1980 \t 0.0022898\n",
      "3336 \t 0 \t 0.0029245\n",
      "2609 \t 50 \t 0.0028264\n",
      "2261 \t 398 \t 0.0032749\n",
      "1532 \t 1127 \t 0.0031042\n",
      "1062 \t 1597 \t 0.0029858\n",
      "2659 \t 0 \t 0.0037077\n"
     ]
    }
   ],
   "source": [
    "for j in range(len(epsilons)):\n",
    "    for i in range(len(Config[\"filenames\"])):\n",
    "        (labels, stats, out, MSE) = results[i][j]\n",
    "        #Config[\"filenames\"][i], epsilons[j],\n",
    "        print( int(sum(stats)),\"\\t\", int(out),\"\\t\", \"%.7f\"%MSE)"
   ]
  },
  {
   "cell_type": "code",
   "execution_count": 77,
   "metadata": {},
   "outputs": [],
   "source": [
    "plot_chart(\"9-2\", Config[\"filenames\"], epsilons, np.asarray(statsss))"
   ]
  },
  {
   "cell_type": "code",
   "execution_count": null,
   "metadata": {},
   "outputs": [],
   "source": [
    "#Random code\n",
    "statss = []\n",
    "for i in range(2):\n",
    "    stats = []\n",
    "    for j in range(3):\n",
    "        stats.append([rd.randint(0, k) for k in range(rd.randint(0, 100))])\n",
    "    statss.append(stats)\n",
    "print(len(statss))\n",
    "print(len(statss[0]))\n",
    "\n",
    "plot_chart(\"test\", [\"a\",\"b\"], [0.1, 0.2, 0.3], np.asarray(statss))"
   ]
  }
 ],
 "metadata": {
  "colab": {
   "name": "cnn.ipynb",
   "provenance": []
  },
  "kernelspec": {
   "display_name": "Python 3",
   "language": "python",
   "name": "python3"
  },
  "language_info": {
   "codemirror_mode": {
    "name": "ipython",
    "version": 3
   },
   "file_extension": ".py",
   "mimetype": "text/x-python",
   "name": "python",
   "nbconvert_exporter": "python",
   "pygments_lexer": "ipython3",
   "version": "3.7.4"
  }
 },
 "nbformat": 4,
 "nbformat_minor": 1
}
